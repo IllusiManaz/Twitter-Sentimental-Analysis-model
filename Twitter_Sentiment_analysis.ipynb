{
  "nbformat": 4,
  "nbformat_minor": 0,
  "metadata": {
    "colab": {
      "provenance": [],
      "collapsed_sections": []
    },
    "kernelspec": {
      "name": "python3",
      "display_name": "Python 3"
    },
    "language_info": {
      "name": "python"
    }
  },
  "cells": [
    {
      "cell_type": "code",
      "execution_count": null,
      "metadata": {
        "id": "vslWkeYd36uP"
      },
      "outputs": [],
      "source": [
        "import pandas as pd\n",
        "import matplotlib.pyplot as plt\n",
        "import seaborn as sn\n",
        "import numpy as np"
      ]
    },
    {
      "cell_type": "markdown",
      "source": [
        "**PROCESSING AND VISUALIZATION OF REVIEWS DATA**"
      ],
      "metadata": {
        "id": "fA9J6D-6AK2X"
      }
    },
    {
      "cell_type": "code",
      "source": [
        "df=pd.read_table('/content/Restaurant_Reviews.tsv')\n",
        "df"
      ],
      "metadata": {
        "colab": {
          "base_uri": "https://localhost:8080/",
          "height": 424
        },
        "id": "_WyGRAuP8zuA",
        "outputId": "a4209d7d-855c-4d9a-aa27-99a82ba55c59"
      },
      "execution_count": null,
      "outputs": [
        {
          "output_type": "execute_result",
          "data": {
            "text/plain": [
              "                                                Review  Liked\n",
              "0                             Wow... Loved this place.      1\n",
              "1                                   Crust is not good.      0\n",
              "2            Not tasty and the texture was just nasty.      0\n",
              "3    Stopped by during the late May bank holiday of...      1\n",
              "4    The selection on the menu was great and so wer...      1\n",
              "..                                                 ...    ...\n",
              "995  I think food should have flavor and texture an...      0\n",
              "996                           Appetite instantly gone.      0\n",
              "997  Overall I was not impressed and would not go b...      0\n",
              "998  The whole experience was underwhelming, and I ...      0\n",
              "999  Then, as if I hadn't wasted enough of my life ...      0\n",
              "\n",
              "[1000 rows x 2 columns]"
            ],
            "text/html": [
              "\n",
              "  <div id=\"df-776e5231-71cd-4f2f-ae13-5ed5ae2f857c\">\n",
              "    <div class=\"colab-df-container\">\n",
              "      <div>\n",
              "<style scoped>\n",
              "    .dataframe tbody tr th:only-of-type {\n",
              "        vertical-align: middle;\n",
              "    }\n",
              "\n",
              "    .dataframe tbody tr th {\n",
              "        vertical-align: top;\n",
              "    }\n",
              "\n",
              "    .dataframe thead th {\n",
              "        text-align: right;\n",
              "    }\n",
              "</style>\n",
              "<table border=\"1\" class=\"dataframe\">\n",
              "  <thead>\n",
              "    <tr style=\"text-align: right;\">\n",
              "      <th></th>\n",
              "      <th>Review</th>\n",
              "      <th>Liked</th>\n",
              "    </tr>\n",
              "  </thead>\n",
              "  <tbody>\n",
              "    <tr>\n",
              "      <th>0</th>\n",
              "      <td>Wow... Loved this place.</td>\n",
              "      <td>1</td>\n",
              "    </tr>\n",
              "    <tr>\n",
              "      <th>1</th>\n",
              "      <td>Crust is not good.</td>\n",
              "      <td>0</td>\n",
              "    </tr>\n",
              "    <tr>\n",
              "      <th>2</th>\n",
              "      <td>Not tasty and the texture was just nasty.</td>\n",
              "      <td>0</td>\n",
              "    </tr>\n",
              "    <tr>\n",
              "      <th>3</th>\n",
              "      <td>Stopped by during the late May bank holiday of...</td>\n",
              "      <td>1</td>\n",
              "    </tr>\n",
              "    <tr>\n",
              "      <th>4</th>\n",
              "      <td>The selection on the menu was great and so wer...</td>\n",
              "      <td>1</td>\n",
              "    </tr>\n",
              "    <tr>\n",
              "      <th>...</th>\n",
              "      <td>...</td>\n",
              "      <td>...</td>\n",
              "    </tr>\n",
              "    <tr>\n",
              "      <th>995</th>\n",
              "      <td>I think food should have flavor and texture an...</td>\n",
              "      <td>0</td>\n",
              "    </tr>\n",
              "    <tr>\n",
              "      <th>996</th>\n",
              "      <td>Appetite instantly gone.</td>\n",
              "      <td>0</td>\n",
              "    </tr>\n",
              "    <tr>\n",
              "      <th>997</th>\n",
              "      <td>Overall I was not impressed and would not go b...</td>\n",
              "      <td>0</td>\n",
              "    </tr>\n",
              "    <tr>\n",
              "      <th>998</th>\n",
              "      <td>The whole experience was underwhelming, and I ...</td>\n",
              "      <td>0</td>\n",
              "    </tr>\n",
              "    <tr>\n",
              "      <th>999</th>\n",
              "      <td>Then, as if I hadn't wasted enough of my life ...</td>\n",
              "      <td>0</td>\n",
              "    </tr>\n",
              "  </tbody>\n",
              "</table>\n",
              "<p>1000 rows × 2 columns</p>\n",
              "</div>\n",
              "      <button class=\"colab-df-convert\" onclick=\"convertToInteractive('df-776e5231-71cd-4f2f-ae13-5ed5ae2f857c')\"\n",
              "              title=\"Convert this dataframe to an interactive table.\"\n",
              "              style=\"display:none;\">\n",
              "        \n",
              "  <svg xmlns=\"http://www.w3.org/2000/svg\" height=\"24px\"viewBox=\"0 0 24 24\"\n",
              "       width=\"24px\">\n",
              "    <path d=\"M0 0h24v24H0V0z\" fill=\"none\"/>\n",
              "    <path d=\"M18.56 5.44l.94 2.06.94-2.06 2.06-.94-2.06-.94-.94-2.06-.94 2.06-2.06.94zm-11 1L8.5 8.5l.94-2.06 2.06-.94-2.06-.94L8.5 2.5l-.94 2.06-2.06.94zm10 10l.94 2.06.94-2.06 2.06-.94-2.06-.94-.94-2.06-.94 2.06-2.06.94z\"/><path d=\"M17.41 7.96l-1.37-1.37c-.4-.4-.92-.59-1.43-.59-.52 0-1.04.2-1.43.59L10.3 9.45l-7.72 7.72c-.78.78-.78 2.05 0 2.83L4 21.41c.39.39.9.59 1.41.59.51 0 1.02-.2 1.41-.59l7.78-7.78 2.81-2.81c.8-.78.8-2.07 0-2.86zM5.41 20L4 18.59l7.72-7.72 1.47 1.35L5.41 20z\"/>\n",
              "  </svg>\n",
              "      </button>\n",
              "      \n",
              "  <style>\n",
              "    .colab-df-container {\n",
              "      display:flex;\n",
              "      flex-wrap:wrap;\n",
              "      gap: 12px;\n",
              "    }\n",
              "\n",
              "    .colab-df-convert {\n",
              "      background-color: #E8F0FE;\n",
              "      border: none;\n",
              "      border-radius: 50%;\n",
              "      cursor: pointer;\n",
              "      display: none;\n",
              "      fill: #1967D2;\n",
              "      height: 32px;\n",
              "      padding: 0 0 0 0;\n",
              "      width: 32px;\n",
              "    }\n",
              "\n",
              "    .colab-df-convert:hover {\n",
              "      background-color: #E2EBFA;\n",
              "      box-shadow: 0px 1px 2px rgba(60, 64, 67, 0.3), 0px 1px 3px 1px rgba(60, 64, 67, 0.15);\n",
              "      fill: #174EA6;\n",
              "    }\n",
              "\n",
              "    [theme=dark] .colab-df-convert {\n",
              "      background-color: #3B4455;\n",
              "      fill: #D2E3FC;\n",
              "    }\n",
              "\n",
              "    [theme=dark] .colab-df-convert:hover {\n",
              "      background-color: #434B5C;\n",
              "      box-shadow: 0px 1px 3px 1px rgba(0, 0, 0, 0.15);\n",
              "      filter: drop-shadow(0px 1px 2px rgba(0, 0, 0, 0.3));\n",
              "      fill: #FFFFFF;\n",
              "    }\n",
              "  </style>\n",
              "\n",
              "      <script>\n",
              "        const buttonEl =\n",
              "          document.querySelector('#df-776e5231-71cd-4f2f-ae13-5ed5ae2f857c button.colab-df-convert');\n",
              "        buttonEl.style.display =\n",
              "          google.colab.kernel.accessAllowed ? 'block' : 'none';\n",
              "\n",
              "        async function convertToInteractive(key) {\n",
              "          const element = document.querySelector('#df-776e5231-71cd-4f2f-ae13-5ed5ae2f857c');\n",
              "          const dataTable =\n",
              "            await google.colab.kernel.invokeFunction('convertToInteractive',\n",
              "                                                     [key], {});\n",
              "          if (!dataTable) return;\n",
              "\n",
              "          const docLinkHtml = 'Like what you see? Visit the ' +\n",
              "            '<a target=\"_blank\" href=https://colab.research.google.com/notebooks/data_table.ipynb>data table notebook</a>'\n",
              "            + ' to learn more about interactive tables.';\n",
              "          element.innerHTML = '';\n",
              "          dataTable['output_type'] = 'display_data';\n",
              "          await google.colab.output.renderOutput(dataTable, element);\n",
              "          const docLink = document.createElement('div');\n",
              "          docLink.innerHTML = docLinkHtml;\n",
              "          element.appendChild(docLink);\n",
              "        }\n",
              "      </script>\n",
              "    </div>\n",
              "  </div>\n",
              "  "
            ]
          },
          "metadata": {},
          "execution_count": 9
        }
      ]
    },
    {
      "cell_type": "code",
      "source": [
        "df.info()"
      ],
      "metadata": {
        "colab": {
          "base_uri": "https://localhost:8080/"
        },
        "id": "RTK0CeX8E_1q",
        "outputId": "e153879b-ab05-4605-8d5f-a73c54199842"
      },
      "execution_count": null,
      "outputs": [
        {
          "output_type": "stream",
          "name": "stdout",
          "text": [
            "<class 'pandas.core.frame.DataFrame'>\n",
            "RangeIndex: 1000 entries, 0 to 999\n",
            "Data columns (total 2 columns):\n",
            " #   Column  Non-Null Count  Dtype \n",
            "---  ------  --------------  ----- \n",
            " 0   Review  1000 non-null   object\n",
            " 1   Liked   1000 non-null   int64 \n",
            "dtypes: int64(1), object(1)\n",
            "memory usage: 15.8+ KB\n"
          ]
        }
      ]
    },
    {
      "cell_type": "code",
      "source": [
        "df.describe()"
      ],
      "metadata": {
        "colab": {
          "base_uri": "https://localhost:8080/",
          "height": 300
        },
        "id": "8cknI4TrAX7Y",
        "outputId": "687857e3-1f52-4b51-d89b-89e45e9b1d13"
      },
      "execution_count": null,
      "outputs": [
        {
          "output_type": "execute_result",
          "data": {
            "text/plain": [
              "            Liked\n",
              "count  1000.00000\n",
              "mean      0.50000\n",
              "std       0.50025\n",
              "min       0.00000\n",
              "25%       0.00000\n",
              "50%       0.50000\n",
              "75%       1.00000\n",
              "max       1.00000"
            ],
            "text/html": [
              "\n",
              "  <div id=\"df-8725b784-0bd1-401a-8fe1-d999e4f7e31a\">\n",
              "    <div class=\"colab-df-container\">\n",
              "      <div>\n",
              "<style scoped>\n",
              "    .dataframe tbody tr th:only-of-type {\n",
              "        vertical-align: middle;\n",
              "    }\n",
              "\n",
              "    .dataframe tbody tr th {\n",
              "        vertical-align: top;\n",
              "    }\n",
              "\n",
              "    .dataframe thead th {\n",
              "        text-align: right;\n",
              "    }\n",
              "</style>\n",
              "<table border=\"1\" class=\"dataframe\">\n",
              "  <thead>\n",
              "    <tr style=\"text-align: right;\">\n",
              "      <th></th>\n",
              "      <th>Liked</th>\n",
              "    </tr>\n",
              "  </thead>\n",
              "  <tbody>\n",
              "    <tr>\n",
              "      <th>count</th>\n",
              "      <td>1000.00000</td>\n",
              "    </tr>\n",
              "    <tr>\n",
              "      <th>mean</th>\n",
              "      <td>0.50000</td>\n",
              "    </tr>\n",
              "    <tr>\n",
              "      <th>std</th>\n",
              "      <td>0.50025</td>\n",
              "    </tr>\n",
              "    <tr>\n",
              "      <th>min</th>\n",
              "      <td>0.00000</td>\n",
              "    </tr>\n",
              "    <tr>\n",
              "      <th>25%</th>\n",
              "      <td>0.00000</td>\n",
              "    </tr>\n",
              "    <tr>\n",
              "      <th>50%</th>\n",
              "      <td>0.50000</td>\n",
              "    </tr>\n",
              "    <tr>\n",
              "      <th>75%</th>\n",
              "      <td>1.00000</td>\n",
              "    </tr>\n",
              "    <tr>\n",
              "      <th>max</th>\n",
              "      <td>1.00000</td>\n",
              "    </tr>\n",
              "  </tbody>\n",
              "</table>\n",
              "</div>\n",
              "      <button class=\"colab-df-convert\" onclick=\"convertToInteractive('df-8725b784-0bd1-401a-8fe1-d999e4f7e31a')\"\n",
              "              title=\"Convert this dataframe to an interactive table.\"\n",
              "              style=\"display:none;\">\n",
              "        \n",
              "  <svg xmlns=\"http://www.w3.org/2000/svg\" height=\"24px\"viewBox=\"0 0 24 24\"\n",
              "       width=\"24px\">\n",
              "    <path d=\"M0 0h24v24H0V0z\" fill=\"none\"/>\n",
              "    <path d=\"M18.56 5.44l.94 2.06.94-2.06 2.06-.94-2.06-.94-.94-2.06-.94 2.06-2.06.94zm-11 1L8.5 8.5l.94-2.06 2.06-.94-2.06-.94L8.5 2.5l-.94 2.06-2.06.94zm10 10l.94 2.06.94-2.06 2.06-.94-2.06-.94-.94-2.06-.94 2.06-2.06.94z\"/><path d=\"M17.41 7.96l-1.37-1.37c-.4-.4-.92-.59-1.43-.59-.52 0-1.04.2-1.43.59L10.3 9.45l-7.72 7.72c-.78.78-.78 2.05 0 2.83L4 21.41c.39.39.9.59 1.41.59.51 0 1.02-.2 1.41-.59l7.78-7.78 2.81-2.81c.8-.78.8-2.07 0-2.86zM5.41 20L4 18.59l7.72-7.72 1.47 1.35L5.41 20z\"/>\n",
              "  </svg>\n",
              "      </button>\n",
              "      \n",
              "  <style>\n",
              "    .colab-df-container {\n",
              "      display:flex;\n",
              "      flex-wrap:wrap;\n",
              "      gap: 12px;\n",
              "    }\n",
              "\n",
              "    .colab-df-convert {\n",
              "      background-color: #E8F0FE;\n",
              "      border: none;\n",
              "      border-radius: 50%;\n",
              "      cursor: pointer;\n",
              "      display: none;\n",
              "      fill: #1967D2;\n",
              "      height: 32px;\n",
              "      padding: 0 0 0 0;\n",
              "      width: 32px;\n",
              "    }\n",
              "\n",
              "    .colab-df-convert:hover {\n",
              "      background-color: #E2EBFA;\n",
              "      box-shadow: 0px 1px 2px rgba(60, 64, 67, 0.3), 0px 1px 3px 1px rgba(60, 64, 67, 0.15);\n",
              "      fill: #174EA6;\n",
              "    }\n",
              "\n",
              "    [theme=dark] .colab-df-convert {\n",
              "      background-color: #3B4455;\n",
              "      fill: #D2E3FC;\n",
              "    }\n",
              "\n",
              "    [theme=dark] .colab-df-convert:hover {\n",
              "      background-color: #434B5C;\n",
              "      box-shadow: 0px 1px 3px 1px rgba(0, 0, 0, 0.15);\n",
              "      filter: drop-shadow(0px 1px 2px rgba(0, 0, 0, 0.3));\n",
              "      fill: #FFFFFF;\n",
              "    }\n",
              "  </style>\n",
              "\n",
              "      <script>\n",
              "        const buttonEl =\n",
              "          document.querySelector('#df-8725b784-0bd1-401a-8fe1-d999e4f7e31a button.colab-df-convert');\n",
              "        buttonEl.style.display =\n",
              "          google.colab.kernel.accessAllowed ? 'block' : 'none';\n",
              "\n",
              "        async function convertToInteractive(key) {\n",
              "          const element = document.querySelector('#df-8725b784-0bd1-401a-8fe1-d999e4f7e31a');\n",
              "          const dataTable =\n",
              "            await google.colab.kernel.invokeFunction('convertToInteractive',\n",
              "                                                     [key], {});\n",
              "          if (!dataTable) return;\n",
              "\n",
              "          const docLinkHtml = 'Like what you see? Visit the ' +\n",
              "            '<a target=\"_blank\" href=https://colab.research.google.com/notebooks/data_table.ipynb>data table notebook</a>'\n",
              "            + ' to learn more about interactive tables.';\n",
              "          element.innerHTML = '';\n",
              "          dataTable['output_type'] = 'display_data';\n",
              "          await google.colab.output.renderOutput(dataTable, element);\n",
              "          const docLink = document.createElement('div');\n",
              "          docLink.innerHTML = docLinkHtml;\n",
              "          element.appendChild(docLink);\n",
              "        }\n",
              "      </script>\n",
              "    </div>\n",
              "  </div>\n",
              "  "
            ]
          },
          "metadata": {},
          "execution_count": 34
        }
      ]
    },
    {
      "cell_type": "code",
      "source": [
        "plt.figure(figsize=(4,4)) # Visualization of the number of positive and negative reviews\n",
        "c=sn.countplot(x='Liked',hue='Liked',data=df)\n",
        "legend_labels, _= c.get_legend_handles_labels()\n",
        "c.legend(legend_labels, ['Negative','Positive'], bbox_to_anchor=(1,1))\n",
        "plt.show()"
      ],
      "metadata": {
        "colab": {
          "base_uri": "https://localhost:8080/",
          "height": 279
        },
        "id": "mcIE4zuhFBYD",
        "outputId": "3d7cfd0b-89f5-4cbc-dfa5-898f3664cb24"
      },
      "execution_count": null,
      "outputs": [
        {
          "output_type": "display_data",
          "data": {
            "text/plain": [
              "<Figure size 288x288 with 1 Axes>"
            ],
            "image/png": "[encoded data removed]"
          },
          "metadata": {
            "needs_background": "light"
          }
        }
      ]
    },
    {
      "cell_type": "code",
      "source": [
        "x=df['Review'].values\n",
        "y=df['Liked'].values"
      ],
      "metadata": {
        "id": "vlJaGC_ZFaV_"
      },
      "execution_count": null,
      "outputs": []
    },
    {
      "cell_type": "code",
      "source": [
        "df['Liked'].value_counts() # Finding the number of positive and negative reviews"
      ],
      "metadata": {
        "colab": {
          "base_uri": "https://localhost:8080/"
        },
        "id": "mKps3d9yDyzZ",
        "outputId": "efeb6814-f18b-44d1-8995-2972c33c9933"
      },
      "execution_count": null,
      "outputs": [
        {
          "output_type": "execute_result",
          "data": {
            "text/plain": [
              "1    500\n",
              "0    500\n",
              "Name: Liked, dtype: int64"
            ]
          },
          "metadata": {},
          "execution_count": 36
        }
      ]
    },
    {
      "cell_type": "markdown",
      "source": [
        "TRAIN TEST SPLIT OF THE REVIEW DATA"
      ],
      "metadata": {
        "id": "Nf2z7En0Baut"
      }
    },
    {
      "cell_type": "code",
      "source": [
        "from sklearn.model_selection import train_test_split\n",
        "x_train,x_test,y_train,y_test=train_test_split(x,y,test_size=0.14,random_state=33)"
      ],
      "metadata": {
        "id": "tWKwvw08EF2Z"
      },
      "execution_count": null,
      "outputs": []
    },
    {
      "cell_type": "code",
      "source": [
        "x_train.shape\n"
      ],
      "metadata": {
        "colab": {
          "base_uri": "https://localhost:8080/"
        },
        "id": "s2B5YvZlEQas",
        "outputId": "44748242-93c7-44f8-dac5-279fb9c8592b"
      },
      "execution_count": null,
      "outputs": [
        {
          "output_type": "execute_result",
          "data": {
            "text/plain": [
              "(860,)"
            ]
          },
          "metadata": {},
          "execution_count": 15
        }
      ]
    },
    {
      "cell_type": "code",
      "source": [
        "x_test.shape"
      ],
      "metadata": {
        "colab": {
          "base_uri": "https://localhost:8080/"
        },
        "id": "DGn_4HQZEUi2",
        "outputId": "2c5bd2a8-f7ed-482a-e980-e18e466c1c70"
      },
      "execution_count": null,
      "outputs": [
        {
          "output_type": "execute_result",
          "data": {
            "text/plain": [
              "(140,)"
            ]
          },
          "metadata": {},
          "execution_count": 16
        }
      ]
    },
    {
      "cell_type": "code",
      "source": [
        "y_train.shape"
      ],
      "metadata": {
        "colab": {
          "base_uri": "https://localhost:8080/"
        },
        "id": "BU-ack-3EXu5",
        "outputId": "d84846b9-a4e5-4a1e-fee5-1b02d8edbad3"
      },
      "execution_count": null,
      "outputs": [
        {
          "output_type": "execute_result",
          "data": {
            "text/plain": [
              "(860,)"
            ]
          },
          "metadata": {},
          "execution_count": 17
        }
      ]
    },
    {
      "cell_type": "code",
      "source": [
        "\n",
        "y_test.shape"
      ],
      "metadata": {
        "colab": {
          "base_uri": "https://localhost:8080/"
        },
        "id": "EoSBV2KfEZcQ",
        "outputId": "efa82e06-e961-494b-86ec-7dd5ef784bc1"
      },
      "execution_count": null,
      "outputs": [
        {
          "output_type": "execute_result",
          "data": {
            "text/plain": [
              "(140,)"
            ]
          },
          "metadata": {},
          "execution_count": 18
        }
      ]
    },
    {
      "cell_type": "markdown",
      "source": [
        "APPLYING THE COUNT VECTORIZER"
      ],
      "metadata": {
        "id": "4JMok0xdByKA"
      }
    },
    {
      "cell_type": "code",
      "source": [
        "from sklearn.feature_extraction.text import CountVectorizer\n",
        "vect=CountVectorizer(stop_words='english')\n",
        "x_train_vect=vect.fit_transform(x_train)\n",
        "x_test_vect=vect.transform(x_test)"
      ],
      "metadata": {
        "id": "MQqYE43DEa6_"
      },
      "execution_count": null,
      "outputs": []
    },
    {
      "cell_type": "markdown",
      "source": [
        "APPLYING THE ML ALGORITHM SVC TO FIT AND PREDICT"
      ],
      "metadata": {
        "id": "R0s50ANyB7jB"
      }
    },
    {
      "cell_type": "code",
      "source": [
        "from sklearn.svm import SVC\n",
        "model1=SVC()\n",
        "model1.fit(x_train_vect,y_train)\n",
        "y_pred1=model1.predict(x_test_vect)\n",
        "y_pred1"
      ],
      "metadata": {
        "id": "eEqLY0wREkQ6"
      },
      "execution_count": null,
      "outputs": []
    },
    {
      "cell_type": "markdown",
      "source": [
        "FINDING THE ACCURACY OF THE SVC MODEL"
      ],
      "metadata": {
        "id": "cPExCq0fCQ-1"
      }
    },
    {
      "cell_type": "code",
      "source": [
        "from sklearn.metrics import accuracy_score\n",
        "accuracy_score(y_pred1,y_test)"
      ],
      "metadata": {
        "colab": {
          "base_uri": "https://localhost:8080/"
        },
        "id": "Y8VO9ViqFMRB",
        "outputId": "ce83747c-f762-4487-c3ab-e3e1bdddf652"
      },
      "execution_count": null,
      "outputs": [
        {
          "output_type": "execute_result",
          "data": {
            "text/plain": [
              "0.8285714285714286"
            ]
          },
          "metadata": {},
          "execution_count": 21
        }
      ]
    },
    {
      "cell_type": "markdown",
      "source": [
        "APPLYING THE PIPELINE USING VECTORIZATION MODEL AND SVC ML MODEL"
      ],
      "metadata": {
        "id": "l3HCQbmGCl58"
      }
    },
    {
      "cell_type": "code",
      "source": [
        "from sklearn.pipeline import make_pipeline\n",
        "\n",
        "model2=make_pipeline(CountVectorizer(),SVC())\n",
        "model2.fit(x_train,y_train)\n",
        "y_pred2=model2.predict(x_test)\n",
        "y_pred2"
      ],
      "metadata": {
        "id": "ayKoPbgpGGPm"
      },
      "execution_count": null,
      "outputs": []
    },
    {
      "cell_type": "markdown",
      "source": [
        "FINDING THE ACCURACY OF PIPELINE USING VECTORIZATION MODEL AND SVC ML MODEL"
      ],
      "metadata": {
        "id": "LTeD5TJDCy6K"
      }
    },
    {
      "cell_type": "code",
      "source": [
        "from sklearn.metrics import accuracy_score\n",
        "accuracy_score(y_pred2,y_test)"
      ],
      "metadata": {
        "colab": {
          "base_uri": "https://localhost:8080/"
        },
        "id": "ocHrRXXhGV_F",
        "outputId": "30e16601-8898-4257-c3e5-f0820f46dab5"
      },
      "execution_count": null,
      "outputs": [
        {
          "output_type": "execute_result",
          "data": {
            "text/plain": [
              "0.8"
            ]
          },
          "metadata": {},
          "execution_count": 23
        }
      ]
    },
    {
      "cell_type": "markdown",
      "source": [
        "APPLYING NAIVE BAYES ML MODEL"
      ],
      "metadata": {
        "id": "MObI2N3oC637"
      }
    },
    {
      "cell_type": "code",
      "source": [
        "from sklearn.naive_bayes import MultinomialNB\n",
        "model3=MultinomialNB()\n",
        "model3.fit(x_train_vect,y_train)\n",
        "y_pred3=model3.predict(x_test_vect)\n",
        "y_pred3"
      ],
      "metadata": {
        "id": "gaNeFtjUGgsP"
      },
      "execution_count": null,
      "outputs": []
    },
    {
      "cell_type": "markdown",
      "source": [
        "FINDING THE ACCURACY OF THE NAIVE BAYES ML MODEL"
      ],
      "metadata": {
        "id": "Q4VvE1YRC9Xp"
      }
    },
    {
      "cell_type": "code",
      "source": [
        "from sklearn.metrics import accuracy_score\n",
        "accuracy_score(y_pred3,y_test)"
      ],
      "metadata": {
        "colab": {
          "base_uri": "https://localhost:8080/"
        },
        "id": "K6K8IYRAHQWc",
        "outputId": "0633f869-1d9a-43b6-b623-bb1381645cd3"
      },
      "execution_count": null,
      "outputs": [
        {
          "output_type": "execute_result",
          "data": {
            "text/plain": [
              "0.8071428571428572"
            ]
          },
          "metadata": {},
          "execution_count": 25
        }
      ]
    },
    {
      "cell_type": "markdown",
      "source": [
        "APPLYING THE PIPELINE USING VECTORIZATION MODEL AND NAIVE BAYES ML MODEL\n",
        "\n"
      ],
      "metadata": {
        "id": "wL8JtELNDE3V"
      }
    },
    {
      "cell_type": "code",
      "source": [
        "from sklearn.pipeline import make_pipeline\n",
        "\n",
        "model4=make_pipeline(CountVectorizer(),MultinomialNB())\n",
        "model4.fit(x_train,y_train)\n",
        "y_pred4=model4.predict(x_test)\n",
        "y_pred4"
      ],
      "metadata": {
        "id": "WEOH7qSMHeeD"
      },
      "execution_count": null,
      "outputs": []
    },
    {
      "cell_type": "markdown",
      "source": [
        "FINDING THE ACCURACY OF PIPELINE USING VECTORIZATION MODEL AND NAIVE BAYES ML MODEL"
      ],
      "metadata": {
        "id": "BswItwyJDK7v"
      }
    },
    {
      "cell_type": "code",
      "source": [
        "from sklearn.metrics import accuracy_score\n",
        "accuracy_score(y_pred4,y_test)"
      ],
      "metadata": {
        "colab": {
          "base_uri": "https://localhost:8080/"
        },
        "id": "6__kV36hHw5n",
        "outputId": "984c163e-626d-4639-b321-8b2c15d49757"
      },
      "execution_count": null,
      "outputs": [
        {
          "output_type": "execute_result",
          "data": {
            "text/plain": [
              "0.85"
            ]
          },
          "metadata": {},
          "execution_count": 27
        }
      ]
    },
    {
      "cell_type": "code",
      "source": [
        "#SVC---0.8285714285714286\n",
        "#SVC pipeline---0.8\n",
        "#Multinomial---0.8071428571428572\n",
        "#Multinomial pipeline--0.85\n"
      ],
      "metadata": {
        "id": "dLfE3B8XH4Q1"
      },
      "execution_count": null,
      "outputs": []
    },
    {
      "cell_type": "markdown",
      "source": [
        "Hence, from the above data we got to know that Pipeline using Vectorization model and MultinomialNB has the highest accuracy score, therefore it is the best model "
      ],
      "metadata": {
        "id": "oD5n5HbNDUIH"
      }
    },
    {
      "cell_type": "code",
      "source": [
        "import joblib\n",
        "joblib.dump(model4,'Positive-Negative') # create a file for the best model to be used"
      ],
      "metadata": {
        "colab": {
          "base_uri": "https://localhost:8080/"
        },
        "id": "3rUFzljSN5lN",
        "outputId": "3a4c0ce5-a4c8-4500-8415-c6a73fc30cec"
      },
      "execution_count": null,
      "outputs": [
        {
          "output_type": "execute_result",
          "data": {
            "text/plain": [
              "['Positive-Negative']"
            ]
          },
          "metadata": {},
          "execution_count": 29
        }
      ]
    },
    {
      "cell_type": "code",
      "source": [
        "import joblib\n",
        "text_model=joblib.load('Positive-Negative')  # reloading the created joblib model for predictions\n",
        "text_model"
      ],
      "metadata": {
        "colab": {
          "base_uri": "https://localhost:8080/"
        },
        "id": "PfgA0gSwOcPh",
        "outputId": "1c59de5b-1a48-4fe4-89b3-8dc394bb621a"
      },
      "execution_count": null,
      "outputs": [
        {
          "output_type": "execute_result",
          "data": {
            "text/plain": [
              "Pipeline(steps=[('countvectorizer', CountVectorizer()),\n",
              "                ('multinomialnb', MultinomialNB())])"
            ]
          },
          "metadata": {},
          "execution_count": 30
        }
      ]
    },
    {
      "cell_type": "code",
      "source": [
        "text_model.predict(['I loved it']) # we are using the joblib model to predict the output"
      ],
      "metadata": {
        "colab": {
          "base_uri": "https://localhost:8080/"
        },
        "id": "uyQ33oUuOk_w",
        "outputId": "0409b734-4f17-4443-c764-d149ec55c5c1"
      },
      "execution_count": null,
      "outputs": [
        {
          "output_type": "execute_result",
          "data": {
            "text/plain": [
              "array([1])"
            ]
          },
          "metadata": {},
          "execution_count": 31
        }
      ]
    },
    {
      "cell_type": "markdown",
      "source": [
        "**SENTIMENT ANALYSIS**"
      ],
      "metadata": {
        "id": "l4Y01Pfni1rm"
      }
    },
    {
      "cell_type": "code",
      "source": [
        "'''\n",
        "SENTIMENT ANALYSIS:-\n",
        "\n",
        " * It is an NLP(Natural Language Processing) technique which is used to check \n",
        "   about the nature of the data i.e whether the data is \n",
        "   positive,negative or neutral.\n",
        "\n",
        "* It is also known as Opinion Mining.\n",
        "\n",
        "* In simple terms, sentiment analysis is basically a technique to analyze \n",
        "  opinions,sentiments and perceptions of users through text.\n",
        "\n",
        "* It has a big role in businesses. For a business to grow efficently they need\n",
        "  to understand what the customers want so that on the basis of their feedback\n",
        "  they will improve their products and services.\n",
        "\n",
        "BENEFITS OF SENTIMENT ANALYSIS:-\n",
        "\n",
        "1) It provides user feedback which allow to improve the product\n",
        "2) It helps in finding the happy customers easily and the customers to avoid.\n",
        "3) It can help in training chatbox(if any in the website) to recognise customer\n",
        "  mood and respond accordingly.\n",
        "\n",
        "TYPE OF SENTIMENT ANALYSIS:-\n",
        "\n",
        "1)Standard Sentiment Analysis: \n",
        "   * It determines the nature of a written text and classify it as positive,\n",
        "     negative or neutral\n",
        "2)Fine-Grained Sentiment Analysis:\n",
        "   *It renders a more precise feedback of the customers/users in the \n",
        "    range of 1-5 star.\n",
        "3)Aspect-Based Sentiment Analysis:\n",
        "   *It divides the text data and defines its sentiments on the basis \n",
        "    of its aspects.\n",
        "\n",
        "LIMITATIONS OF SENTIMENT ANALYSIS:-\n",
        "\n",
        "1) Fail to recognise sentences having ambiguity.\n",
        "2) Face difficulty in determing the sentiments of sentences taken out of context\n",
        "3) Failing in finding the sentiments of sentences having irony and sarcasm \n",
        "   in them.\n",
        "\n",
        "'''"
      ],
      "metadata": {
        "id": "FY4hmTv9dY8q"
      },
      "execution_count": null,
      "outputs": []
    },
    {
      "cell_type": "markdown",
      "source": [
        "**TWITTER SENTIMENTS**"
      ],
      "metadata": {
        "id": "IxY0kHuJG_Ac"
      }
    },
    {
      "cell_type": "code",
      "source": [
        "'''\n",
        "TWITTER SENTIMENTS:-\n",
        "\n",
        " * Twitter sentiment analysis is a analysing techinque to identify and\n",
        "   classify the sentiments that are expressed in the text source on twitter.\n",
        "\n",
        " * It allows in keeping an eye on comments about products or services of \n",
        "   a specific company on twitter.\n",
        " \n",
        " * Helps in recognising angry customers or negative mentions on twitter quickly.\n",
        "\n",
        "ALGORITHMS IN TWITTER SENTIMENT:-\n",
        " Natural Language Processing (NLP) algorithms like Naive Bayes and\n",
        " SVM (Sentiment Vector Machine) is used in determining or predicting\n",
        " the polarity of sentences.\n",
        "\n",
        "APPLICATIONS OF TWITTER SENTIMENTS:-\n",
        "\n",
        "1) Business: Companies use twitter sentiments for-\n",
        "              (a) Pulling the focus of customers towards theirs products\n",
        "              (b) Developing efficient strategies \n",
        "              (c) Determing the reason behind low purchase of certains products\n",
        "              (d) Getting the response of people about the campaigns or \n",
        "                  launching products\n",
        "2) Politics: In politics it is used for-\n",
        "              (a) Finding the consistency and inconsistency between\n",
        "                  statements and actions of a certain political party.\n",
        "              (b) Analyzing the results of election\n",
        "3) Public Actions: For the general public it is used to:\n",
        "              (a) Predict/spot situations having the potential of being harmful  \n",
        "              (b) Monitor and analyze social phenomena across the globe   \n",
        "\n",
        "TOOLS FOR SENTIMENT ANALYSIS:- \n",
        "\n",
        " 1) Revealed Context:- A tool for twitter sentiment analysis that offers\n",
        "                       a free API for running sentiment analytics on upto\n",
        "                       250 documents per day.\n",
        " 2) Steamcrab:- It's a web application for sentiment analysis on twitter data \n",
        "                that focus on keyword searches and analyzes tweets as \n",
        "                per polarity i.e positive and negative.\n",
        " 3) MeaningCloud:- It is a free API for text analytics, including sentiment \n",
        "                   analytics that supports numerous text analytics operations \n",
        "                   along with sentiment classification.\n",
        " 4) SocialMention:- It is basically a search engine-style web app for \n",
        "                    topic-level sentiment analysis on Twitter data which \n",
        "                    will return aggregate sentiment scores on the basis \n",
        "                    of keyword entered.\n",
        " 5) Enginuity:- It is useful in finding stories to share through social \n",
        "                channels along with getting combined picture of sentiment \n",
        "                about recent events trending on social media.  \n",
        " \n",
        "'''"
      ],
      "metadata": {
        "id": "SM0xQZ1_sdon"
      },
      "execution_count": null,
      "outputs": []
    },
    {
      "cell_type": "code",
      "source": [],
      "metadata": {
        "id": "l8tXh9om-75k"
      },
      "execution_count": null,
      "outputs": []
    }
  ]
}